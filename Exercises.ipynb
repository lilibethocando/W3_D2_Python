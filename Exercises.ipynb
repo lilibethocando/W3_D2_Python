{
 "cells": [
  {
   "cell_type": "markdown",
   "metadata": {},
   "source": [
    "#### Exercise 1 - Class Inheritance"
   ]
  },
  {
   "cell_type": "markdown",
   "metadata": {},
   "source": [
    "Create an Employee class that sets an employee's first name, last name, job title, salary, and email. The Employee class should have a class attribute for the raise amount set to 5% (1.05). Create a method that will apply the raise to an employee's salary."
   ]
  },
  {
   "cell_type": "code",
   "execution_count": 1,
   "metadata": {},
   "outputs": [
    {
     "name": "stdout",
     "output_type": "stream",
     "text": [
      "Employee name: lili oca | Role: Sofware Engineer | Salary: $188000\n",
      "[<Employee| lili>]\n",
      "The employee lili oca has received a raise and the new salary is $197400\n",
      "lilio@company.com\n"
     ]
    }
   ],
   "source": [
    "# Write the Employee Parent Class Here\n",
    "class Employee:\n",
    "    raise_amount = 1.05\n",
    "    \n",
    "    def __init__(self, first, last, job_title, salary):\n",
    "        self.first = first\n",
    "        self.last = last\n",
    "        self.job_title = job_title\n",
    "        self.salary = salary\n",
    "        self.email = first+last[0]+'@company.com'\n",
    "        \n",
    "        \n",
    "    def __str__(self):\n",
    "        return f\"Employee name: {self.first} {self.last} | Role: {self.job_title} | Salary: ${self.salary}\"\n",
    "    \n",
    "    def __repr__(self):\n",
    "        return f\"<Employee| {self.first}>\"\n",
    "        \n",
    "    def apply_raise(self):\n",
    "        self.salary = round(self.salary * Employee.raise_amount)\n",
    "        return f\"The employee {self.first} {self.last} has received a raise and the new salary is ${self.salary}\"\n",
    "    \n",
    "e1 = Employee('lili', 'oca', 'Sofware Engineer', 188000)\n",
    "\n",
    "print(e1)\n",
    "emps = [e1]\n",
    "print(emps)\n",
    "\n",
    "print(e1.apply_raise())\n",
    "print(e1.email)\n",
    "        \n",
    "        "
   ]
  },
  {
   "cell_type": "markdown",
   "metadata": {},
   "source": [
    "Create two more classes that inherit from the Employee class. One for Sales and one for Development. Both of these classes will have the same attributes as the Employee.<br>\n",
    "- For the Sales employees, add a phone number attribute on instantiation using the super method. \n",
    "- Create a method on the Sales class that will \"Send a Follow Up Email\". It should take in a customer name and \"send\" aka print a formatted email \"Dear *customer*, Thank you for your interest in our product. Please let me know if you have any questions. My email is *email* or my phone number is *phone number*. Thanks, *full name*\"\n",
    "- Create a method on the Development class called code that will print out \"*full name* is writing code\"."
   ]
  },
  {
   "cell_type": "code",
   "execution_count": 2,
   "metadata": {},
   "outputs": [],
   "source": [
    "# Write the Sales child Class Here\n",
    "class Sales(Employee):\n",
    "    def __init__(self, first, last, job_title, salary, phone):\n",
    "         super().__init__(first, last, job_title, salary)\n",
    "         self.phone = phone\n",
    "            \n",
    "    def follow_email(self, cust_name):\n",
    "        return f\"Dear {cust_name}, Thank you for your interest in our product. Please let me know if you have any questions.\\\n",
    "        My email is {self.email} or my phone number is {self.phone}. Thanks, {self.first} {self.last}\"\n",
    "        \n",
    "\n"
   ]
  },
  {
   "cell_type": "code",
   "execution_count": 3,
   "metadata": {},
   "outputs": [],
   "source": [
    "# Write the Development child Class Here\n",
    "class Development(Employee):\n",
    "    def __init__(self, first, last, job_title, salary):\n",
    "         super().__init__(first, last, job_title, salary)\n",
    "            \n",
    "    def code(self):\n",
    "        return f\"{self.first} {self.last} is writing code\"\n"
   ]
  },
  {
   "cell_type": "markdown",
   "metadata": {},
   "source": [
    "- Create an instance of a Sales Employee with a salary of $50,000.\n",
    "- Send follow up emails to \"Mike O'Neil\" and \"Hannah Stern\"\n",
    "- Give the employee a raise and print the salary"
   ]
  },
  {
   "cell_type": "code",
   "execution_count": 4,
   "metadata": {},
   "outputs": [
    {
     "name": "stdout",
     "output_type": "stream",
     "text": [
      "Employee name: Julian Garcia | Role: Sales | Salary: $50000\n"
     ]
    }
   ],
   "source": [
    "# Create the instance\n",
    "sales_emp = Sales('Julian', 'Garcia', 'Sales', 50000, '312-5555555')\n",
    "print(sales_emp)"
   ]
  },
  {
   "cell_type": "code",
   "execution_count": 5,
   "metadata": {},
   "outputs": [
    {
     "name": "stdout",
     "output_type": "stream",
     "text": [
      "Dear Mike O'Neil, Thank you for your interest in our product. Please let me know if you have any questions.        My email is JulianG@company.com or my phone number is 312-5555555. Thanks, Julian Garcia\n"
     ]
    }
   ],
   "source": [
    "# Send follow up to Mike\n",
    "print(sales_emp.follow_email(\"Mike O'Neil\"))"
   ]
  },
  {
   "cell_type": "code",
   "execution_count": 6,
   "metadata": {},
   "outputs": [
    {
     "name": "stdout",
     "output_type": "stream",
     "text": [
      "Dear Hannah Stern, Thank you for your interest in our product. Please let me know if you have any questions.        My email is JulianG@company.com or my phone number is 312-5555555. Thanks, Julian Garcia\n"
     ]
    }
   ],
   "source": [
    "# Send follow up to Hannah\n",
    "print(sales_emp.follow_email(\"Hannah Stern\"))"
   ]
  },
  {
   "cell_type": "code",
   "execution_count": 7,
   "metadata": {},
   "outputs": [
    {
     "name": "stdout",
     "output_type": "stream",
     "text": [
      "The employee Julian Garcia has received a raise and the new salary is $52500\n"
     ]
    }
   ],
   "source": [
    "# Give the sales employee a raise\n",
    "print(sales_emp.apply_raise())"
   ]
  },
  {
   "cell_type": "markdown",
   "metadata": {},
   "source": [
    "- Create an instance of a Development Employee with a salary of $100,000\n",
    "- Write some code with this employee\n",
    "- Give the employee a raise and print the salary"
   ]
  },
  {
   "cell_type": "code",
   "execution_count": 8,
   "metadata": {},
   "outputs": [
    {
     "name": "stdout",
     "output_type": "stream",
     "text": [
      "Employee name: Lili Oca | Role: Developer | Salary: $100000\n"
     ]
    }
   ],
   "source": [
    "# Create the instance\n",
    "dev_emp = Development('Lili', 'Oca', 'Developer', 100000)\n",
    "print(dev_emp)"
   ]
  },
  {
   "cell_type": "code",
   "execution_count": 9,
   "metadata": {},
   "outputs": [
    {
     "name": "stdout",
     "output_type": "stream",
     "text": [
      "Lili Oca is writing code\n"
     ]
    }
   ],
   "source": [
    "# Write some code (call code method)\n",
    "print(dev_emp.code())"
   ]
  },
  {
   "cell_type": "code",
   "execution_count": 10,
   "metadata": {},
   "outputs": [
    {
     "name": "stdout",
     "output_type": "stream",
     "text": [
      "The employee Lili Oca has received a raise and the new salary is $105000\n"
     ]
    }
   ],
   "source": [
    "# Give the dev employee a raise\n",
    "print(dev_emp.apply_raise())"
   ]
  },
  {
   "cell_type": "markdown",
   "metadata": {},
   "source": [
    "#### Exercise 2 - Importing Modules"
   ]
  },
  {
   "cell_type": "markdown",
   "metadata": {},
   "source": [
    "In VS Code, create a module titled `geometry` and add two functions in there. One that will calculate the area of a circle given a radius. The second will find the hypotenuse of a right angle given the two sides. Import the module or the functions from the module and use it to find the answers to the below questions"
   ]
  },
  {
   "cell_type": "markdown",
   "metadata": {},
   "source": [
    "What is the area of a circle with a radius of 7cm?"
   ]
  },
  {
   "cell_type": "code",
   "execution_count": 11,
   "metadata": {},
   "outputs": [],
   "source": [
    "from geometry import circle_area, hypotenuse"
   ]
  },
  {
   "cell_type": "code",
   "execution_count": 14,
   "metadata": {},
   "outputs": [
    {
     "name": "stdout",
     "output_type": "stream",
     "text": [
      "153.94\n"
     ]
    }
   ],
   "source": [
    "# ~153.94A\n",
    "print(circle_area(7))"
   ]
  },
  {
   "cell_type": "markdown",
   "metadata": {},
   "source": [
    "What is the hypotenuse of a right angle with sides of 3in and 4in?"
   ]
  },
  {
   "cell_type": "code",
   "execution_count": 15,
   "metadata": {},
   "outputs": [
    {
     "name": "stdout",
     "output_type": "stream",
     "text": [
      "5.0\n"
     ]
    }
   ],
   "source": [
    "# 5 inches\n",
    "print(hypotenuse(3,4))"
   ]
  },
  {
   "cell_type": "code",
   "execution_count": null,
   "metadata": {},
   "outputs": [],
   "source": []
  }
 ],
 "metadata": {
  "kernelspec": {
   "display_name": "Python 3 (ipykernel)",
   "language": "python",
   "name": "python3"
  },
  "language_info": {
   "codemirror_mode": {
    "name": "ipython",
    "version": 3
   },
   "file_extension": ".py",
   "mimetype": "text/x-python",
   "name": "python",
   "nbconvert_exporter": "python",
   "pygments_lexer": "ipython3",
   "version": "3.11.5"
  }
 },
 "nbformat": 4,
 "nbformat_minor": 4
}
